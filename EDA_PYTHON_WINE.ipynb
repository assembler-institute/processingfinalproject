{
 "cells": [
  {
   "cell_type": "markdown",
   "metadata": {},
   "source": [
    "# FINAL PROJECT - DATA PRE-PROCESSING \n",
    "\n",
    "## Exercise 2 - Winery\n",
    "\n",
    "We are going to extract some curiosities about data referring to different wines in the world, this information has been extracted from the web https://www.winemag.com/?s=&drink_type=wine which collects information about the origin of the wine, its score , price, tasters, general wine information, etc.\n",
    "Specifically, we are going to work with the following data sources:\n",
    "* winemag-data_first150k.csv\n",
    "* winemag-data-130k-v2.json\n",
    "\n",
    "In both we can find very similar information in terms of columns for the csv file or key fields for the json file:\n",
    "* country: Country of origin of the wine.\n",
    "* description: Description of the taster about the properties of the wine.\n",
    "* designation: Wine category.\n",
    "* points: Score given by winemag users\n",
    "* price: Price of the wine.\n",
    "* province: Province of the wine country.\n",
    "* region_1: Wine Region 1\n",
    "* region_2: Wine Region 2\n",
    "* variety: Grape variety.\n",
    "* winery: Production and maturation cellar.\n",
    "\n",
    "More information about the datasets can be found on the web with the original Kaggle data https://www.kaggle.com/zynicide/wine-reviews\n",
    "\n",
    "With this information, the following is requested:\n",
    "1. Load both files, the .csv as pandas dataframe and the .json as json\n",
    "2. Get a single dataframe that is the union of both files that only has the following columns:\n",
    "    * country\n",
    "    * designation\n",
    "    * points\n",
    "    * price\n",
    "    * state\n",
    "    * winery\n",
    "3. Are there duplicates in the dataframe? Delete all duplicate rows\n",
    "4. Make a study of the null values of the dataset, assign a zero to all the columns that have a null value in the price, after that, delete the rest of the null values of the dataframe. What is the resulting number of rows?\n",
    "5. Obtain a subset with all the wines that are from Spain and that also include the word reserve 'reserva' in the designation of origin. Hint: To locate a text string in a column you can use the str.contains function https://pandas.pydata.org/pandas-docs/stable/reference/api/pandas.Series.str.contains.html\n",
    "6. Of the previous sub-set with the Spanish reserve wines, do they have a higher average score than all the wines or a lower one?\n",
    "7. Take again the sub-set of Spanish reserve wines, in general, in Spain the wines from Rioja (a province in the north of Spain, North Spain will appear in the dataset) have great fame, therefore , it is to be expected that this province or region is the one with the most wines in this sub-set, check whether this statement is true graphically.\n",
    "8. Shows the top 10 of the best valued wines.\n",
    "9. Shows the average price of wines in each country. Which country has the highest average price? Does this country appear in the top 10 above?\n",
    "10. Graphically shows the price over the score based on the province of the subset of Spanish reserve wines. Which province has the most expensive wine? Is the north of Spain still the province with the best valued reserve wine?"
   ]
  },
  {
   "cell_type": "code",
   "execution_count": 1,
   "metadata": {},
   "outputs": [],
   "source": [
    "import json\n",
    "import pandas as pd"
   ]
  },
  {
   "cell_type": "markdown",
   "metadata": {},
   "source": [
    "# 1\n",
    "1. Load both files, the .csv as pandas dataframe and the .json as json"
   ]
  },
  {
   "cell_type": "code",
   "execution_count": 2,
   "metadata": {},
   "outputs": [],
   "source": [
    "df_one = pd.read_csv(\"winemag-data_first150k.csv\")"
   ]
  },
  {
   "cell_type": "code",
   "execution_count": 3,
   "metadata": {},
   "outputs": [
    {
     "data": {
      "text/html": [
       "<div>\n",
       "<style scoped>\n",
       "    .dataframe tbody tr th:only-of-type {\n",
       "        vertical-align: middle;\n",
       "    }\n",
       "\n",
       "    .dataframe tbody tr th {\n",
       "        vertical-align: top;\n",
       "    }\n",
       "\n",
       "    .dataframe thead th {\n",
       "        text-align: right;\n",
       "    }\n",
       "</style>\n",
       "<table border=\"1\" class=\"dataframe\">\n",
       "  <thead>\n",
       "    <tr style=\"text-align: right;\">\n",
       "      <th></th>\n",
       "      <th>Unnamed: 0</th>\n",
       "      <th>country</th>\n",
       "      <th>description</th>\n",
       "      <th>designation</th>\n",
       "      <th>points</th>\n",
       "      <th>price</th>\n",
       "      <th>province</th>\n",
       "      <th>region_1</th>\n",
       "      <th>region_2</th>\n",
       "      <th>variety</th>\n",
       "      <th>winery</th>\n",
       "    </tr>\n",
       "  </thead>\n",
       "  <tbody>\n",
       "    <tr>\n",
       "      <th>0</th>\n",
       "      <td>0</td>\n",
       "      <td>US</td>\n",
       "      <td>This tremendous 100% varietal wine hails from ...</td>\n",
       "      <td>Martha's Vineyard</td>\n",
       "      <td>96</td>\n",
       "      <td>235.0</td>\n",
       "      <td>California</td>\n",
       "      <td>Napa Valley</td>\n",
       "      <td>Napa</td>\n",
       "      <td>Cabernet Sauvignon</td>\n",
       "      <td>Heitz</td>\n",
       "    </tr>\n",
       "    <tr>\n",
       "      <th>1</th>\n",
       "      <td>1</td>\n",
       "      <td>Spain</td>\n",
       "      <td>Ripe aromas of fig, blackberry and cassis are ...</td>\n",
       "      <td>Carodorum Selección Especial Reserva</td>\n",
       "      <td>96</td>\n",
       "      <td>110.0</td>\n",
       "      <td>Northern Spain</td>\n",
       "      <td>Toro</td>\n",
       "      <td>NaN</td>\n",
       "      <td>Tinta de Toro</td>\n",
       "      <td>Bodega Carmen Rodríguez</td>\n",
       "    </tr>\n",
       "  </tbody>\n",
       "</table>\n",
       "</div>"
      ],
      "text/plain": [
       "   Unnamed: 0 country                                        description  \\\n",
       "0           0      US  This tremendous 100% varietal wine hails from ...   \n",
       "1           1   Spain  Ripe aromas of fig, blackberry and cassis are ...   \n",
       "\n",
       "                            designation  points  price        province  \\\n",
       "0                     Martha's Vineyard      96  235.0      California   \n",
       "1  Carodorum Selección Especial Reserva      96  110.0  Northern Spain   \n",
       "\n",
       "      region_1 region_2             variety                   winery  \n",
       "0  Napa Valley     Napa  Cabernet Sauvignon                    Heitz  \n",
       "1         Toro      NaN       Tinta de Toro  Bodega Carmen Rodríguez  "
      ]
     },
     "execution_count": 3,
     "metadata": {},
     "output_type": "execute_result"
    }
   ],
   "source": [
    "df_one.head(2)"
   ]
  },
  {
   "cell_type": "code",
   "execution_count": 4,
   "metadata": {},
   "outputs": [],
   "source": [
    "with open(\"winemag-data-130k-v2.json\") as f:\n",
    "    json_df = json.load(f)"
   ]
  },
  {
   "cell_type": "code",
   "execution_count": 5,
   "metadata": {},
   "outputs": [
    {
     "data": {
      "text/plain": [
       "{'points': '87',\n",
       " 'title': 'Nicosia 2013 Vulkà Bianco  (Etna)',\n",
       " 'description': \"Aromas include tropical fruit, broom, brimstone and dried herb. The palate isn't overly expressive, offering unripened apple, citrus and dried sage alongside brisk acidity.\",\n",
       " 'taster_name': 'Kerin O’Keefe',\n",
       " 'taster_twitter_handle': '@kerinokeefe',\n",
       " 'price': None,\n",
       " 'designation': 'Vulkà Bianco',\n",
       " 'variety': 'White Blend',\n",
       " 'region_1': 'Etna',\n",
       " 'region_2': None,\n",
       " 'province': 'Sicily & Sardinia',\n",
       " 'country': 'Italy',\n",
       " 'winery': 'Nicosia'}"
      ]
     },
     "execution_count": 5,
     "metadata": {},
     "output_type": "execute_result"
    }
   ],
   "source": [
    "json_df[0]"
   ]
  },
  {
   "cell_type": "code",
   "execution_count": 6,
   "metadata": {},
   "outputs": [
    {
     "data": {
      "text/plain": [
       "129971"
      ]
     },
     "execution_count": 6,
     "metadata": {},
     "output_type": "execute_result"
    }
   ],
   "source": [
    "len(json_df)"
   ]
  },
  {
   "cell_type": "code",
   "execution_count": 7,
   "metadata": {},
   "outputs": [
    {
     "data": {
      "text/plain": [
       "150930"
      ]
     },
     "execution_count": 7,
     "metadata": {},
     "output_type": "execute_result"
    }
   ],
   "source": [
    "len(df_one)"
   ]
  },
  {
   "cell_type": "code",
   "execution_count": 8,
   "metadata": {},
   "outputs": [
    {
     "name": "stdout",
     "output_type": "stream",
     "text": [
      "All rows -->  280901\n"
     ]
    }
   ],
   "source": [
    "print(\"All rows --> \", len(df_one) + len(json_df))"
   ]
  },
  {
   "cell_type": "markdown",
   "metadata": {},
   "source": [
    "# 2\n",
    "\n",
    "2. Get a single dataframe that is the union of both files that only has the following columns:\n",
    "    *country\n",
    "    * designation\n",
    "    * points\n",
    "    * price\n",
    "    * state\n",
    "    * winery"
   ]
  },
  {
   "cell_type": "code",
   "execution_count": 9,
   "metadata": {},
   "outputs": [],
   "source": [
    "country = []\n",
    "designation = []\n",
    "points = []\n",
    "price = []\n",
    "province = []\n",
    "winery = []"
   ]
  },
  {
   "cell_type": "code",
   "execution_count": 10,
   "metadata": {},
   "outputs": [],
   "source": [
    "for item in json_df:\n",
    "    country.append(item[\"country\"])\n",
    "    designation.append(item['designation'])\n",
    "    points.append(item['points'])\n",
    "    price.append(item['price'])\n",
    "    province.append(item['province'])\n",
    "    winery.append(item['winery'])"
   ]
  },
  {
   "cell_type": "code",
   "execution_count": 11,
   "metadata": {},
   "outputs": [],
   "source": [
    "country = country + list(df_one['country'])\n",
    "designation = designation + list(df_one['designation']) \n",
    "points = points + list(df_one['points']) \n",
    "price = price + list(df_one['price'])\n",
    "province = province + list(df_one['province'])\n",
    "winery = winery + list(df_one['winery'])"
   ]
  },
  {
   "cell_type": "code",
   "execution_count": 12,
   "metadata": {},
   "outputs": [
    {
     "name": "stdout",
     "output_type": "stream",
     "text": [
      "280901\n",
      "280901\n",
      "280901\n",
      "280901\n",
      "280901\n",
      "280901\n"
     ]
    }
   ],
   "source": [
    "print(len(country))\n",
    "print(len(designation))\n",
    "print(len(points))\n",
    "print(len(price))\n",
    "print(len(province))\n",
    "print(len(winery))"
   ]
  },
  {
   "cell_type": "code",
   "execution_count": 13,
   "metadata": {},
   "outputs": [],
   "source": [
    "df = pd.DataFrame({\n",
    "    'country' : country,\n",
    "    'designation' : designation,\n",
    "    'points' : points,\n",
    "    'price' : price,\n",
    "    'province' : province,\n",
    "    'winery' : winery\n",
    "}).reset_index(drop=True, inplace=False)"
   ]
  },
  {
   "cell_type": "code",
   "execution_count": 14,
   "metadata": {},
   "outputs": [
    {
     "data": {
      "text/html": [
       "<div>\n",
       "<style scoped>\n",
       "    .dataframe tbody tr th:only-of-type {\n",
       "        vertical-align: middle;\n",
       "    }\n",
       "\n",
       "    .dataframe tbody tr th {\n",
       "        vertical-align: top;\n",
       "    }\n",
       "\n",
       "    .dataframe thead th {\n",
       "        text-align: right;\n",
       "    }\n",
       "</style>\n",
       "<table border=\"1\" class=\"dataframe\">\n",
       "  <thead>\n",
       "    <tr style=\"text-align: right;\">\n",
       "      <th></th>\n",
       "      <th>country</th>\n",
       "      <th>designation</th>\n",
       "      <th>points</th>\n",
       "      <th>price</th>\n",
       "      <th>province</th>\n",
       "      <th>winery</th>\n",
       "    </tr>\n",
       "  </thead>\n",
       "  <tbody>\n",
       "    <tr>\n",
       "      <th>0</th>\n",
       "      <td>Italy</td>\n",
       "      <td>Vulkà Bianco</td>\n",
       "      <td>87</td>\n",
       "      <td>NaN</td>\n",
       "      <td>Sicily &amp; Sardinia</td>\n",
       "      <td>Nicosia</td>\n",
       "    </tr>\n",
       "    <tr>\n",
       "      <th>1</th>\n",
       "      <td>Portugal</td>\n",
       "      <td>Avidagos</td>\n",
       "      <td>87</td>\n",
       "      <td>15.0</td>\n",
       "      <td>Douro</td>\n",
       "      <td>Quinta dos Avidagos</td>\n",
       "    </tr>\n",
       "    <tr>\n",
       "      <th>2</th>\n",
       "      <td>US</td>\n",
       "      <td>None</td>\n",
       "      <td>87</td>\n",
       "      <td>14.0</td>\n",
       "      <td>Oregon</td>\n",
       "      <td>Rainstorm</td>\n",
       "    </tr>\n",
       "    <tr>\n",
       "      <th>3</th>\n",
       "      <td>US</td>\n",
       "      <td>Reserve Late Harvest</td>\n",
       "      <td>87</td>\n",
       "      <td>13.0</td>\n",
       "      <td>Michigan</td>\n",
       "      <td>St. Julian</td>\n",
       "    </tr>\n",
       "    <tr>\n",
       "      <th>4</th>\n",
       "      <td>US</td>\n",
       "      <td>Vintner's Reserve Wild Child Block</td>\n",
       "      <td>87</td>\n",
       "      <td>65.0</td>\n",
       "      <td>Oregon</td>\n",
       "      <td>Sweet Cheeks</td>\n",
       "    </tr>\n",
       "  </tbody>\n",
       "</table>\n",
       "</div>"
      ],
      "text/plain": [
       "    country                         designation points  price  \\\n",
       "0     Italy                        Vulkà Bianco     87    NaN   \n",
       "1  Portugal                            Avidagos     87   15.0   \n",
       "2        US                                None     87   14.0   \n",
       "3        US                Reserve Late Harvest     87   13.0   \n",
       "4        US  Vintner's Reserve Wild Child Block     87   65.0   \n",
       "\n",
       "            province               winery  \n",
       "0  Sicily & Sardinia              Nicosia  \n",
       "1              Douro  Quinta dos Avidagos  \n",
       "2             Oregon            Rainstorm  \n",
       "3           Michigan           St. Julian  \n",
       "4             Oregon         Sweet Cheeks  "
      ]
     },
     "execution_count": 14,
     "metadata": {},
     "output_type": "execute_result"
    }
   ],
   "source": [
    "df.head()"
   ]
  },
  {
   "cell_type": "code",
   "execution_count": 15,
   "metadata": {},
   "outputs": [
    {
     "data": {
      "text/plain": [
       "(280901, 6)"
      ]
     },
     "execution_count": 15,
     "metadata": {},
     "output_type": "execute_result"
    }
   ],
   "source": [
    "df.shape"
   ]
  },
  {
   "cell_type": "code",
   "execution_count": 16,
   "metadata": {},
   "outputs": [
    {
     "data": {
      "text/plain": [
       "Index(['country', 'designation', 'points', 'price', 'province', 'winery'], dtype='object')"
      ]
     },
     "execution_count": 16,
     "metadata": {},
     "output_type": "execute_result"
    }
   ],
   "source": [
    "df.columns"
   ]
  },
  {
   "cell_type": "markdown",
   "metadata": {},
   "source": [
    "###  2nd version Pandas read_json"
   ]
  },
  {
   "cell_type": "code",
   "execution_count": 17,
   "metadata": {},
   "outputs": [],
   "source": [
    "df_json = pd.read_json(\"winemag-data-130k-v2.json\")"
   ]
  },
  {
   "cell_type": "code",
   "execution_count": 18,
   "metadata": {},
   "outputs": [
    {
     "name": "stdout",
     "output_type": "stream",
     "text": [
      "Total Rows -->  280901\n"
     ]
    }
   ],
   "source": [
    "print(\"Total Rows --> \", len(df_one) + len(df_json))"
   ]
  },
  {
   "cell_type": "code",
   "execution_count": 19,
   "metadata": {},
   "outputs": [],
   "source": [
    "df_two = pd.concat([df_one, df_json], ignore_index=True)[['country', 'designation', \\\n",
    "                                                          'points', 'price', 'province', 'winery']]"
   ]
  },
  {
   "cell_type": "code",
   "execution_count": 20,
   "metadata": {},
   "outputs": [
    {
     "data": {
      "text/plain": [
       "(280901, 6)"
      ]
     },
     "execution_count": 20,
     "metadata": {},
     "output_type": "execute_result"
    }
   ],
   "source": [
    "df_two.shape"
   ]
  },
  {
   "cell_type": "markdown",
   "metadata": {},
   "source": [
    "# 3\n",
    "\n",
    "3. Are there duplicates in the dataframe? Delete all duplicate rows"
   ]
  },
  {
   "cell_type": "code",
   "execution_count": 21,
   "metadata": {},
   "outputs": [
    {
     "data": {
      "text/plain": [
       "(280901, 6)"
      ]
     },
     "execution_count": 21,
     "metadata": {},
     "output_type": "execute_result"
    }
   ],
   "source": [
    "# Before remove duplicated\n",
    "df_two.shape"
   ]
  },
  {
   "cell_type": "code",
   "execution_count": 22,
   "metadata": {},
   "outputs": [],
   "source": [
    "df_two.drop_duplicates(inplace = True)"
   ]
  },
  {
   "cell_type": "code",
   "execution_count": 23,
   "metadata": {},
   "outputs": [],
   "source": [
    "df_two = df_two.reset_index(drop = True)"
   ]
  },
  {
   "cell_type": "code",
   "execution_count": 24,
   "metadata": {},
   "outputs": [
    {
     "data": {
      "text/plain": [
       "(155432, 6)"
      ]
     },
     "execution_count": 24,
     "metadata": {},
     "output_type": "execute_result"
    }
   ],
   "source": [
    "# After remove duplicated\n",
    "df_two.shape"
   ]
  },
  {
   "cell_type": "markdown",
   "metadata": {},
   "source": [
    "# 4\n",
    "\n",
    "4. Make a study of the null values of the dataset, assign a zero to all the columns that have a null value in the price, after that, delete the rest of the null values of the dataframe. What is the resulting number of rows?"
   ]
  },
  {
   "cell_type": "code",
   "execution_count": 25,
   "metadata": {},
   "outputs": [
    {
     "name": "stdout",
     "output_type": "stream",
     "text": [
      "*Amount of nulls by column\n",
      "country           58\n",
      "designation    43546\n",
      "points             0\n",
      "price          11779\n",
      "province          58\n",
      "winery             0\n",
      "dtype: int64\n",
      "----------------------------------\n",
      "*Percentage of nulls by column\n",
      "country         0.037315\n",
      "designation    28.016110\n",
      "points          0.000000\n",
      "price           7.578234\n",
      "province        0.037315\n",
      "winery          0.000000\n",
      "dtype: float64\n"
     ]
    }
   ],
   "source": [
    "print(\"*Amount of nulls by column\")\n",
    "print(df_two.isnull().sum())\n",
    "print(\"----------------------------------\")\n",
    "print(\"*Percentage of nulls by column\")\n",
    "print(df_two.isnull().sum()/len(df_two)*100)"
   ]
  },
  {
   "cell_type": "code",
   "execution_count": 26,
   "metadata": {},
   "outputs": [],
   "source": [
    "df_two.price = df_two.price.fillna(0)"
   ]
  },
  {
   "cell_type": "code",
   "execution_count": 27,
   "metadata": {},
   "outputs": [],
   "source": [
    "df_two = df_two.dropna().reset_index(drop = True)"
   ]
  },
  {
   "cell_type": "code",
   "execution_count": 28,
   "metadata": {},
   "outputs": [
    {
     "data": {
      "text/plain": [
       "RangeIndex(start=0, stop=111838, step=1)"
      ]
     },
     "execution_count": 28,
     "metadata": {},
     "output_type": "execute_result"
    }
   ],
   "source": [
    "df_two.index"
   ]
  },
  {
   "cell_type": "code",
   "execution_count": 29,
   "metadata": {},
   "outputs": [
    {
     "data": {
      "text/plain": [
       "111838"
      ]
     },
     "execution_count": 29,
     "metadata": {},
     "output_type": "execute_result"
    }
   ],
   "source": [
    "len(df_two)"
   ]
  },
  {
   "cell_type": "code",
   "execution_count": 30,
   "metadata": {},
   "outputs": [
    {
     "name": "stdout",
     "output_type": "stream",
     "text": [
      "*Amount of nulls by column\n",
      "country        0\n",
      "designation    0\n",
      "points         0\n",
      "price          0\n",
      "province       0\n",
      "winery         0\n",
      "dtype: int64\n",
      "----------------------------------\n",
      "*Percentage of nulls by column\n",
      "country        0.0\n",
      "designation    0.0\n",
      "points         0.0\n",
      "price          0.0\n",
      "province       0.0\n",
      "winery         0.0\n",
      "dtype: float64\n"
     ]
    }
   ],
   "source": [
    "print(\"*Amount of nulls by column\")\n",
    "print(df_two.isnull().sum())\n",
    "print(\"----------------------------------\")\n",
    "print(\"*Percentage of nulls by column\")\n",
    "print(df_two.isnull().sum()/len(df_two)*100)"
   ]
  },
  {
   "cell_type": "markdown",
   "metadata": {},
   "source": [
    "# 5\n",
    "\n",
    "5. Obtain a subset with all the wines that are from Spain and that also include the word reserve 'reserva' in the designation of origin. Hint: To locate a text string in a column you can use the str.contains function https://pandas.pydata.org/pandas-docs/stable/reference/api/pandas.Series.str.contains.html"
   ]
  },
  {
   "cell_type": "code",
   "execution_count": 31,
   "metadata": {},
   "outputs": [
    {
     "data": {
      "text/html": [
       "<div>\n",
       "<style scoped>\n",
       "    .dataframe tbody tr th:only-of-type {\n",
       "        vertical-align: middle;\n",
       "    }\n",
       "\n",
       "    .dataframe tbody tr th {\n",
       "        vertical-align: top;\n",
       "    }\n",
       "\n",
       "    .dataframe thead th {\n",
       "        text-align: right;\n",
       "    }\n",
       "</style>\n",
       "<table border=\"1\" class=\"dataframe\">\n",
       "  <thead>\n",
       "    <tr style=\"text-align: right;\">\n",
       "      <th></th>\n",
       "      <th>country</th>\n",
       "      <th>designation</th>\n",
       "      <th>points</th>\n",
       "      <th>price</th>\n",
       "      <th>province</th>\n",
       "      <th>winery</th>\n",
       "    </tr>\n",
       "  </thead>\n",
       "  <tbody>\n",
       "    <tr>\n",
       "      <th>0</th>\n",
       "      <td>US</td>\n",
       "      <td>Martha's Vineyard</td>\n",
       "      <td>96</td>\n",
       "      <td>235.0</td>\n",
       "      <td>California</td>\n",
       "      <td>Heitz</td>\n",
       "    </tr>\n",
       "    <tr>\n",
       "      <th>1</th>\n",
       "      <td>Spain</td>\n",
       "      <td>Carodorum Selección Especial Reserva</td>\n",
       "      <td>96</td>\n",
       "      <td>110.0</td>\n",
       "      <td>Northern Spain</td>\n",
       "      <td>Bodega Carmen Rodríguez</td>\n",
       "    </tr>\n",
       "    <tr>\n",
       "      <th>2</th>\n",
       "      <td>US</td>\n",
       "      <td>Special Selected Late Harvest</td>\n",
       "      <td>96</td>\n",
       "      <td>90.0</td>\n",
       "      <td>California</td>\n",
       "      <td>Macauley</td>\n",
       "    </tr>\n",
       "    <tr>\n",
       "      <th>3</th>\n",
       "      <td>US</td>\n",
       "      <td>Reserve</td>\n",
       "      <td>96</td>\n",
       "      <td>65.0</td>\n",
       "      <td>Oregon</td>\n",
       "      <td>Ponzi</td>\n",
       "    </tr>\n",
       "    <tr>\n",
       "      <th>4</th>\n",
       "      <td>France</td>\n",
       "      <td>La Brûlade</td>\n",
       "      <td>95</td>\n",
       "      <td>66.0</td>\n",
       "      <td>Provence</td>\n",
       "      <td>Domaine de la Bégude</td>\n",
       "    </tr>\n",
       "  </tbody>\n",
       "</table>\n",
       "</div>"
      ],
      "text/plain": [
       "  country                           designation  points  price  \\\n",
       "0      US                     Martha's Vineyard      96  235.0   \n",
       "1   Spain  Carodorum Selección Especial Reserva      96  110.0   \n",
       "2      US         Special Selected Late Harvest      96   90.0   \n",
       "3      US                               Reserve      96   65.0   \n",
       "4  France                            La Brûlade      95   66.0   \n",
       "\n",
       "         province                   winery  \n",
       "0      California                    Heitz  \n",
       "1  Northern Spain  Bodega Carmen Rodríguez  \n",
       "2      California                 Macauley  \n",
       "3          Oregon                    Ponzi  \n",
       "4        Provence     Domaine de la Bégude  "
      ]
     },
     "execution_count": 31,
     "metadata": {},
     "output_type": "execute_result"
    }
   ],
   "source": [
    "df_two.head()"
   ]
  },
  {
   "cell_type": "code",
   "execution_count": 32,
   "metadata": {},
   "outputs": [],
   "source": [
    "df_spain_reserva = df_two[ (df_two['country'] == \"Spain\") & (df_two['designation'].str.contains(\"Reserva\"))].copy()"
   ]
  },
  {
   "cell_type": "markdown",
   "metadata": {},
   "source": [
    "# 6\n",
    "\n",
    "6. Of the previous sub-set with the Spanish reserve wines, do they have a higher average score than all the wines or a lower one?"
   ]
  },
  {
   "cell_type": "code",
   "execution_count": 33,
   "metadata": {},
   "outputs": [
    {
     "data": {
      "text/plain": [
       "88     13879\n",
       "87     13437\n",
       "90     13422\n",
       "89     10663\n",
       "91     10106\n",
       "86      9954\n",
       "92      8918\n",
       "85      7505\n",
       "93      6290\n",
       "84      5570\n",
       "94      3596\n",
       "83      2933\n",
       "82      1821\n",
       "95      1605\n",
       "81       736\n",
       "96       576\n",
       "80       449\n",
       "97       239\n",
       "98        84\n",
       "99        35\n",
       "100       20\n",
       "Name: points, dtype: int64"
      ]
     },
     "execution_count": 33,
     "metadata": {},
     "output_type": "execute_result"
    }
   ],
   "source": [
    "df_two.points.value_counts()"
   ]
  },
  {
   "cell_type": "code",
   "execution_count": 34,
   "metadata": {},
   "outputs": [],
   "source": [
    "df_two['points'] = pd.to_numeric(df_two[\"points\"])"
   ]
  },
  {
   "cell_type": "code",
   "execution_count": 35,
   "metadata": {},
   "outputs": [],
   "source": [
    "df_two.drop_duplicates(inplace = True)"
   ]
  },
  {
   "cell_type": "code",
   "execution_count": 36,
   "metadata": {},
   "outputs": [
    {
     "data": {
      "text/plain": [
       "(111838, 6)"
      ]
     },
     "execution_count": 36,
     "metadata": {},
     "output_type": "execute_result"
    }
   ],
   "source": [
    "df_two.shape"
   ]
  },
  {
   "cell_type": "code",
   "execution_count": 37,
   "metadata": {},
   "outputs": [
    {
     "data": {
      "text/plain": [
       "88     13879\n",
       "87     13437\n",
       "90     13422\n",
       "89     10663\n",
       "91     10106\n",
       "86      9954\n",
       "92      8918\n",
       "85      7505\n",
       "93      6290\n",
       "84      5570\n",
       "94      3596\n",
       "83      2933\n",
       "82      1821\n",
       "95      1605\n",
       "81       736\n",
       "96       576\n",
       "80       449\n",
       "97       239\n",
       "98        84\n",
       "99        35\n",
       "100       20\n",
       "Name: points, dtype: int64"
      ]
     },
     "execution_count": 37,
     "metadata": {},
     "output_type": "execute_result"
    }
   ],
   "source": [
    "df_two.points.value_counts()"
   ]
  },
  {
   "cell_type": "code",
   "execution_count": 38,
   "metadata": {},
   "outputs": [
    {
     "data": {
      "text/plain": [
       "(1137, 6)"
      ]
     },
     "execution_count": 38,
     "metadata": {},
     "output_type": "execute_result"
    }
   ],
   "source": [
    "df_spain_reserva.shape"
   ]
  },
  {
   "cell_type": "code",
   "execution_count": 39,
   "metadata": {},
   "outputs": [],
   "source": [
    "df_spain_reserva['points'] = pd.to_numeric(df_spain_reserva['points'])"
   ]
  },
  {
   "cell_type": "code",
   "execution_count": 40,
   "metadata": {},
   "outputs": [],
   "source": [
    "df_spain_reserva.drop_duplicates(inplace = True)"
   ]
  },
  {
   "cell_type": "code",
   "execution_count": 41,
   "metadata": {},
   "outputs": [
    {
     "data": {
      "text/plain": [
       "(1137, 6)"
      ]
     },
     "execution_count": 41,
     "metadata": {},
     "output_type": "execute_result"
    }
   ],
   "source": [
    "df_spain_reserva.shape"
   ]
  },
  {
   "cell_type": "code",
   "execution_count": 42,
   "metadata": {},
   "outputs": [
    {
     "data": {
      "text/plain": [
       "88.2462620932278"
      ]
     },
     "execution_count": 42,
     "metadata": {},
     "output_type": "execute_result"
    }
   ],
   "source": [
    "df_spain_reserva.describe()['points']['mean']"
   ]
  },
  {
   "cell_type": "code",
   "execution_count": 43,
   "metadata": {},
   "outputs": [
    {
     "data": {
      "text/plain": [
       "88.56784813748457"
      ]
     },
     "execution_count": 43,
     "metadata": {},
     "output_type": "execute_result"
    }
   ],
   "source": [
    "df_two.describe()['points']['mean'] # More lower"
   ]
  },
  {
   "cell_type": "markdown",
   "metadata": {},
   "source": [
    "# 7\n",
    "\n",
    "7. Take again the sub-set of Spanish reserve wines, in general, in Spain the wines from Rioja (a province in the north of Spain, North Spain will appear in the dataset) have great fame, therefore , it is to be expected that this province or region is the one with the most wines in this sub-set, check whether this statement is true graphically."
   ]
  },
  {
   "cell_type": "code",
   "execution_count": 44,
   "metadata": {},
   "outputs": [
    {
     "data": {
      "text/plain": [
       "Northern Spain    806\n",
       "Catalonia         251\n",
       "Central Spain      45\n",
       "Levante            30\n",
       "Andalucia           4\n",
       "Spain Other         1\n",
       "Name: province, dtype: int64"
      ]
     },
     "execution_count": 44,
     "metadata": {},
     "output_type": "execute_result"
    }
   ],
   "source": [
    "groups = df_spain_reserva.province.value_counts()\n",
    "groups"
   ]
  },
  {
   "cell_type": "code",
   "execution_count": 45,
   "metadata": {},
   "outputs": [
    {
     "data": {
      "image/png": "[encoded data removed]",
      "text/plain": [
       "<Figure size 1080x576 with 1 Axes>"
      ]
     },
     "metadata": {
      "needs_background": "light"
     },
     "output_type": "display_data"
    }
   ],
   "source": [
    "import matplotlib.pyplot as plt  \n",
    "import numpy as np\n",
    "from matplotlib.pyplot import cm\n",
    "\n",
    "fig, ax = plt.subplots(1,1, figsize=(15,8))\n",
    "\n",
    "ax.bar(groups.keys(), groups.values, label = 'Wines by Region', align='edge',  \n",
    "       color = cm.rainbow(np.linspace(0, 1, len(groups.keys()))))\n",
    "for i in range(len(groups.values)):\n",
    "    ax.text(i, groups.values[i]+1, groups.values[i], horizontalalignment='center')\n",
    "    \n",
    "    \n",
    "plt.xlabel('Month Number')\n",
    "plt.ylabel('Sales units in number')\n",
    "plt.legend(loc='upper right')\n",
    "plt.grid(True, linewidth= 1, linestyle=\"--\")\n",
    "plt.title('Wines by Region')\n",
    "plt.show()"
   ]
  },
  {
   "cell_type": "markdown",
   "metadata": {},
   "source": [
    "# 8\n",
    "\n",
    "8. Shows the top 10 of the best valued wines."
   ]
  },
  {
   "cell_type": "code",
   "execution_count": 46,
   "metadata": {},
   "outputs": [
    {
     "data": {
      "text/html": [
       "<div>\n",
       "<style scoped>\n",
       "    .dataframe tbody tr th:only-of-type {\n",
       "        vertical-align: middle;\n",
       "    }\n",
       "\n",
       "    .dataframe tbody tr th {\n",
       "        vertical-align: top;\n",
       "    }\n",
       "\n",
       "    .dataframe thead th {\n",
       "        text-align: right;\n",
       "    }\n",
       "</style>\n",
       "<table border=\"1\" class=\"dataframe\">\n",
       "  <thead>\n",
       "    <tr style=\"text-align: right;\">\n",
       "      <th></th>\n",
       "      <th>country</th>\n",
       "      <th>designation</th>\n",
       "      <th>points</th>\n",
       "      <th>price</th>\n",
       "      <th>province</th>\n",
       "      <th>winery</th>\n",
       "    </tr>\n",
       "  </thead>\n",
       "  <tbody>\n",
       "    <tr>\n",
       "      <th>106948</th>\n",
       "      <td>Portugal</td>\n",
       "      <td>Nacional Vintage</td>\n",
       "      <td>100</td>\n",
       "      <td>650.0</td>\n",
       "      <td>Port</td>\n",
       "      <td>Quinta do Noval</td>\n",
       "    </tr>\n",
       "    <tr>\n",
       "      <th>12836</th>\n",
       "      <td>US</td>\n",
       "      <td>En Chamberlin Vineyard</td>\n",
       "      <td>100</td>\n",
       "      <td>65.0</td>\n",
       "      <td>Oregon</td>\n",
       "      <td>Cayuse</td>\n",
       "    </tr>\n",
       "    <tr>\n",
       "      <th>19214</th>\n",
       "      <td>Italy</td>\n",
       "      <td>Guado de' Gemoli</td>\n",
       "      <td>100</td>\n",
       "      <td>195.0</td>\n",
       "      <td>Tuscany</td>\n",
       "      <td>Giovanni Chiappini</td>\n",
       "    </tr>\n",
       "    <tr>\n",
       "      <th>16178</th>\n",
       "      <td>Italy</td>\n",
       "      <td>Masseto</td>\n",
       "      <td>100</td>\n",
       "      <td>460.0</td>\n",
       "      <td>Tuscany</td>\n",
       "      <td>Tenuta dell'Ornellaia</td>\n",
       "    </tr>\n",
       "    <tr>\n",
       "      <th>56394</th>\n",
       "      <td>Italy</td>\n",
       "      <td>Occhio di Pernice</td>\n",
       "      <td>100</td>\n",
       "      <td>210.0</td>\n",
       "      <td>Tuscany</td>\n",
       "      <td>Avignonesi</td>\n",
       "    </tr>\n",
       "    <tr>\n",
       "      <th>98342</th>\n",
       "      <td>France</td>\n",
       "      <td>Cristal Vintage Brut</td>\n",
       "      <td>100</td>\n",
       "      <td>250.0</td>\n",
       "      <td>Champagne</td>\n",
       "      <td>Louis Roederer</td>\n",
       "    </tr>\n",
       "    <tr>\n",
       "      <th>98343</th>\n",
       "      <td>France</td>\n",
       "      <td>Le Mesnil Blanc de Blancs Brut</td>\n",
       "      <td>100</td>\n",
       "      <td>617.0</td>\n",
       "      <td>Champagne</td>\n",
       "      <td>Salon</td>\n",
       "    </tr>\n",
       "    <tr>\n",
       "      <th>79306</th>\n",
       "      <td>France</td>\n",
       "      <td>Brut</td>\n",
       "      <td>100</td>\n",
       "      <td>259.0</td>\n",
       "      <td>Champagne</td>\n",
       "      <td>Krug</td>\n",
       "    </tr>\n",
       "    <tr>\n",
       "      <th>105872</th>\n",
       "      <td>Italy</td>\n",
       "      <td>Cerretalto</td>\n",
       "      <td>100</td>\n",
       "      <td>270.0</td>\n",
       "      <td>Tuscany</td>\n",
       "      <td>Casanova di Neri</td>\n",
       "    </tr>\n",
       "    <tr>\n",
       "      <th>106573</th>\n",
       "      <td>US</td>\n",
       "      <td>Royal City</td>\n",
       "      <td>100</td>\n",
       "      <td>80.0</td>\n",
       "      <td>Washington</td>\n",
       "      <td>Charles Smith</td>\n",
       "    </tr>\n",
       "  </tbody>\n",
       "</table>\n",
       "</div>"
      ],
      "text/plain": [
       "         country                     designation  points  price    province  \\\n",
       "106948  Portugal                Nacional Vintage     100  650.0        Port   \n",
       "12836         US          En Chamberlin Vineyard     100   65.0      Oregon   \n",
       "19214      Italy                Guado de' Gemoli     100  195.0     Tuscany   \n",
       "16178      Italy                         Masseto     100  460.0     Tuscany   \n",
       "56394      Italy               Occhio di Pernice     100  210.0     Tuscany   \n",
       "98342     France            Cristal Vintage Brut     100  250.0   Champagne   \n",
       "98343     France  Le Mesnil Blanc de Blancs Brut     100  617.0   Champagne   \n",
       "79306     France                            Brut     100  259.0   Champagne   \n",
       "105872     Italy                      Cerretalto     100  270.0     Tuscany   \n",
       "106573        US                      Royal City     100   80.0  Washington   \n",
       "\n",
       "                       winery  \n",
       "106948        Quinta do Noval  \n",
       "12836                  Cayuse  \n",
       "19214      Giovanni Chiappini  \n",
       "16178   Tenuta dell'Ornellaia  \n",
       "56394              Avignonesi  \n",
       "98342          Louis Roederer  \n",
       "98343                   Salon  \n",
       "79306                    Krug  \n",
       "105872       Casanova di Neri  \n",
       "106573          Charles Smith  "
      ]
     },
     "execution_count": 46,
     "metadata": {},
     "output_type": "execute_result"
    }
   ],
   "source": [
    "df_two.sort_values(by = 'points', ascending=False).head(10)"
   ]
  },
  {
   "cell_type": "markdown",
   "metadata": {},
   "source": [
    "# 9 \n",
    "\n",
    "9. Shows the average price of wines in each country. Which country has the highest average price? Does this country appear in the top 10 above?"
   ]
  },
  {
   "cell_type": "code",
   "execution_count": 47,
   "metadata": {},
   "outputs": [
    {
     "data": {
      "text/plain": [
       "country\n",
       "England                   49.428571\n",
       "Hungary                   48.596491\n",
       "Germany                   40.901890\n",
       "US                        39.634244\n",
       "Canada                    39.448454\n",
       "Australia                 37.638085\n",
       "Italy                     35.806996\n",
       "France                    33.413528\n",
       "Lebanon                   32.305556\n",
       "Israel                    31.976891\n",
       "Spain                     29.997487\n",
       "Luxembourg                29.875000\n",
       "Switzerland               28.750000\n",
       "New Zealand               28.103648\n",
       "Austria                   27.974194\n",
       "Turkey                    27.571429\n",
       "Mexico                    27.454545\n",
       "Argentina                 26.621014\n",
       "Uruguay                   26.066667\n",
       "Slovenia                  26.050000\n",
       "Croatia                   25.140625\n",
       "Serbia                    24.666667\n",
       "South Africa              24.137238\n",
       "Japan                     24.000000\n",
       "Portugal                  23.100293\n",
       "Greece                    22.709742\n",
       "Brazil                    22.705882\n",
       "Czech Republic            22.000000\n",
       "Morocco                   21.133333\n",
       "Chile                     20.992814\n",
       "Georgia                   19.193548\n",
       "Peru                      18.333333\n",
       "Moldova                   17.031746\n",
       "Bulgaria                  16.975000\n",
       "India                     16.800000\n",
       "Romania                   16.600000\n",
       "Macedonia                 16.428571\n",
       "Cyprus                    16.000000\n",
       "Armenia                   14.500000\n",
       "South Korea               13.500000\n",
       "Bosnia and Herzegovina    13.000000\n",
       "China                     12.500000\n",
       "Ukraine                   10.400000\n",
       "Lithuania                 10.000000\n",
       "Tunisia                    0.000000\n",
       "Egypt                      0.000000\n",
       "Name: price, dtype: float64"
      ]
     },
     "execution_count": 47,
     "metadata": {},
     "output_type": "execute_result"
    }
   ],
   "source": [
    "df_two.groupby('country')['price'].mean().sort_values(ascending=False)"
   ]
  },
  {
   "cell_type": "markdown",
   "metadata": {},
   "source": [
    "# 10\n",
    "\n",
    "10. Graphically shows the price over the score based on the province of the subset of Spanish reserve wines. Which province has the most expensive wine? Is the north of Spain still the province with the best valued reserve wine?"
   ]
  },
  {
   "cell_type": "code",
   "execution_count": 48,
   "metadata": {},
   "outputs": [
    {
     "data": {
      "text/plain": [
       "<seaborn.axisgrid.FacetGrid at 0x25808cd2808>"
      ]
     },
     "execution_count": 48,
     "metadata": {},
     "output_type": "execute_result"
    },
    {
     "data": {
      "image/png": "[encoded data removed]",
      "text/plain": [
       "<Figure size 432x648 with 6 Axes>"
      ]
     },
     "metadata": {
      "needs_background": "light"
     },
     "output_type": "display_data"
    }
   ],
   "source": [
    "import seaborn as sns\n",
    "\n",
    "g = sns.FacetGrid(df_spain_reserva, col='province', hue = \"province\", height=3, col_wrap = 2)\n",
    "g.map(plt.scatter, \"points\", \"price\")"
   ]
  }
 ],
 "metadata": {
  "kernelspec": {
   "display_name": "Python 3",
   "language": "python",
   "name": "python3"
  },
  "language_info": {
   "codemirror_mode": {
    "name": "ipython",
    "version": 3
   },
   "file_extension": ".py",
   "mimetype": "text/x-python",
   "name": "python",
   "nbconvert_exporter": "python",
   "pygments_lexer": "ipython3",
   "version": "3.7.6"
  }
 },
 "nbformat": 4,
 "nbformat_minor": 4
}
